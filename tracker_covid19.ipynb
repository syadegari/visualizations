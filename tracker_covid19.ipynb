{
 "cells": [
  {
   "cell_type": "markdown",
   "metadata": {},
   "source": [
    "Check for the required packages"
   ]
  },
  {
   "cell_type": "code",
   "execution_count": 1,
   "metadata": {},
   "outputs": [
    {
     "name": "stdout",
     "output_type": "stream",
     "text": [
      "Package pandas is installed\n",
      "Package matplotlib is installed\n",
      "Package seaborn is installed\n",
      "Package ipywidgets is installed\n"
     ]
    }
   ],
   "source": [
    "%%bash\n",
    "\n",
    "pip list > installed_packages\n",
    "\n",
    "check_package() {\n",
    "    if grep -q $1 installed_packages; then\n",
    "        echo Package $1 is installed\n",
    "    else\n",
    "        echo installing $1\n",
    "        pip install $1\n",
    "    fi\n",
    "}\n",
    "\n",
    "check_package \"pandas\"\n",
    "check_package \"matplotlib\"\n",
    "check_package \"seaborn\"\n",
    "check_package \"ipywidgets\""
   ]
  },
  {
   "cell_type": "markdown",
   "metadata": {},
   "source": [
    "Check out the repository"
   ]
  },
  {
   "cell_type": "code",
   "execution_count": 2,
   "metadata": {},
   "outputs": [
    {
     "name": "stdout",
     "output_type": "stream",
     "text": [
      "total 48\n",
      "drwxr-xr-x  4 syad  staff    128 Apr 27 20:43 scripts\n",
      "-rw-r--r--  1 syad  staff  15844 Apr 27 20:43 datapackage.json\n",
      "drwxr-xr-x  9 syad  staff    288 Apr 27 20:43 data\n",
      "-rw-r--r--  1 syad  staff   4612 Apr 27 20:43 README.md\n"
     ]
    },
    {
     "name": "stderr",
     "output_type": "stream",
     "text": [
      "Cloning into 'covid-19'...\n"
     ]
    }
   ],
   "source": [
    "%%bash \n",
    "\n",
    "if [[ -d covid-19 ]]; then\n",
    "    cd covid-19\n",
    "    git pull\n",
    "    cd ..\n",
    "else\n",
    "    git clone https://github.com/datasets/covid-19\n",
    "fi\n",
    "\n",
    "ls -lt covid-19"
   ]
  },
  {
   "cell_type": "markdown",
   "metadata": {},
   "source": [
    "And the packages we're going to use for the visualization"
   ]
  },
  {
   "cell_type": "code",
   "execution_count": 3,
   "metadata": {},
   "outputs": [],
   "source": [
    "import numpy as np\n",
    "import pandas as pd\n",
    "import matplotlib.pyplot as plt\n",
    "import seaborn as sns"
   ]
  },
  {
   "cell_type": "markdown",
   "metadata": {},
   "source": [
    "Read the aggregated data of all countires"
   ]
  },
  {
   "cell_type": "code",
   "execution_count": 4,
   "metadata": {},
   "outputs": [],
   "source": [
    "df = pd.read_csv(\"./covid-19/data/countries-aggregated.csv\")"
   ]
  },
  {
   "cell_type": "code",
   "execution_count": 5,
   "metadata": {},
   "outputs": [
    {
     "data": {
      "text/plain": [
       "Index(['Date', 'Country', 'Confirmed', 'Recovered', 'Deaths'], dtype='object')"
      ]
     },
     "execution_count": 5,
     "metadata": {},
     "output_type": "execute_result"
    }
   ],
   "source": [
    "df.columns"
   ]
  },
  {
   "cell_type": "markdown",
   "metadata": {},
   "source": [
    "Lower the cases of all the columns to make it easier to work with names"
   ]
  },
  {
   "cell_type": "code",
   "execution_count": 6,
   "metadata": {},
   "outputs": [],
   "source": [
    "df.columns = map(str.lower, df.columns)"
   ]
  },
  {
   "cell_type": "code",
   "execution_count": 7,
   "metadata": {},
   "outputs": [
    {
     "data": {
      "text/html": [
       "<div>\n",
       "<style scoped>\n",
       "    .dataframe tbody tr th:only-of-type {\n",
       "        vertical-align: middle;\n",
       "    }\n",
       "\n",
       "    .dataframe tbody tr th {\n",
       "        vertical-align: top;\n",
       "    }\n",
       "\n",
       "    .dataframe thead th {\n",
       "        text-align: right;\n",
       "    }\n",
       "</style>\n",
       "<table border=\"1\" class=\"dataframe\">\n",
       "  <thead>\n",
       "    <tr style=\"text-align: right;\">\n",
       "      <th></th>\n",
       "      <th>date</th>\n",
       "      <th>country</th>\n",
       "      <th>confirmed</th>\n",
       "      <th>recovered</th>\n",
       "      <th>deaths</th>\n",
       "    </tr>\n",
       "  </thead>\n",
       "  <tbody>\n",
       "    <tr>\n",
       "      <th>0</th>\n",
       "      <td>2020-01-22</td>\n",
       "      <td>Afghanistan</td>\n",
       "      <td>0</td>\n",
       "      <td>0</td>\n",
       "      <td>0</td>\n",
       "    </tr>\n",
       "    <tr>\n",
       "      <th>1</th>\n",
       "      <td>2020-01-22</td>\n",
       "      <td>Albania</td>\n",
       "      <td>0</td>\n",
       "      <td>0</td>\n",
       "      <td>0</td>\n",
       "    </tr>\n",
       "    <tr>\n",
       "      <th>2</th>\n",
       "      <td>2020-01-22</td>\n",
       "      <td>Algeria</td>\n",
       "      <td>0</td>\n",
       "      <td>0</td>\n",
       "      <td>0</td>\n",
       "    </tr>\n",
       "    <tr>\n",
       "      <th>3</th>\n",
       "      <td>2020-01-22</td>\n",
       "      <td>Andorra</td>\n",
       "      <td>0</td>\n",
       "      <td>0</td>\n",
       "      <td>0</td>\n",
       "    </tr>\n",
       "    <tr>\n",
       "      <th>4</th>\n",
       "      <td>2020-01-22</td>\n",
       "      <td>Angola</td>\n",
       "      <td>0</td>\n",
       "      <td>0</td>\n",
       "      <td>0</td>\n",
       "    </tr>\n",
       "    <tr>\n",
       "      <th>...</th>\n",
       "      <td>...</td>\n",
       "      <td>...</td>\n",
       "      <td>...</td>\n",
       "      <td>...</td>\n",
       "      <td>...</td>\n",
       "    </tr>\n",
       "    <tr>\n",
       "      <th>17755</th>\n",
       "      <td>2020-04-26</td>\n",
       "      <td>West Bank and Gaza</td>\n",
       "      <td>342</td>\n",
       "      <td>83</td>\n",
       "      <td>2</td>\n",
       "    </tr>\n",
       "    <tr>\n",
       "      <th>17756</th>\n",
       "      <td>2020-04-26</td>\n",
       "      <td>Western Sahara</td>\n",
       "      <td>6</td>\n",
       "      <td>5</td>\n",
       "      <td>0</td>\n",
       "    </tr>\n",
       "    <tr>\n",
       "      <th>17757</th>\n",
       "      <td>2020-04-26</td>\n",
       "      <td>Yemen</td>\n",
       "      <td>1</td>\n",
       "      <td>1</td>\n",
       "      <td>0</td>\n",
       "    </tr>\n",
       "    <tr>\n",
       "      <th>17758</th>\n",
       "      <td>2020-04-26</td>\n",
       "      <td>Zambia</td>\n",
       "      <td>88</td>\n",
       "      <td>42</td>\n",
       "      <td>3</td>\n",
       "    </tr>\n",
       "    <tr>\n",
       "      <th>17759</th>\n",
       "      <td>2020-04-26</td>\n",
       "      <td>Zimbabwe</td>\n",
       "      <td>31</td>\n",
       "      <td>2</td>\n",
       "      <td>4</td>\n",
       "    </tr>\n",
       "  </tbody>\n",
       "</table>\n",
       "<p>17760 rows × 5 columns</p>\n",
       "</div>"
      ],
      "text/plain": [
       "             date             country  confirmed  recovered  deaths\n",
       "0      2020-01-22         Afghanistan          0          0       0\n",
       "1      2020-01-22             Albania          0          0       0\n",
       "2      2020-01-22             Algeria          0          0       0\n",
       "3      2020-01-22             Andorra          0          0       0\n",
       "4      2020-01-22              Angola          0          0       0\n",
       "...           ...                 ...        ...        ...     ...\n",
       "17755  2020-04-26  West Bank and Gaza        342         83       2\n",
       "17756  2020-04-26      Western Sahara          6          5       0\n",
       "17757  2020-04-26               Yemen          1          1       0\n",
       "17758  2020-04-26              Zambia         88         42       3\n",
       "17759  2020-04-26            Zimbabwe         31          2       4\n",
       "\n",
       "[17760 rows x 5 columns]"
      ]
     },
     "execution_count": 7,
     "metadata": {},
     "output_type": "execute_result"
    }
   ],
   "source": [
    "df"
   ]
  },
  {
   "cell_type": "code",
   "execution_count": 8,
   "metadata": {},
   "outputs": [
    {
     "data": {
      "text/html": [
       "<div>\n",
       "<style scoped>\n",
       "    .dataframe tbody tr th:only-of-type {\n",
       "        vertical-align: middle;\n",
       "    }\n",
       "\n",
       "    .dataframe tbody tr th {\n",
       "        vertical-align: top;\n",
       "    }\n",
       "\n",
       "    .dataframe thead th {\n",
       "        text-align: right;\n",
       "    }\n",
       "</style>\n",
       "<table border=\"1\" class=\"dataframe\">\n",
       "  <thead>\n",
       "    <tr style=\"text-align: right;\">\n",
       "      <th></th>\n",
       "      <th>date</th>\n",
       "      <th>country</th>\n",
       "      <th>confirmed</th>\n",
       "      <th>recovered</th>\n",
       "      <th>deaths</th>\n",
       "    </tr>\n",
       "  </thead>\n",
       "  <tbody>\n",
       "    <tr>\n",
       "      <th>0</th>\n",
       "      <td>2020-01-22</td>\n",
       "      <td>Afghanistan</td>\n",
       "      <td>0</td>\n",
       "      <td>0</td>\n",
       "      <td>0</td>\n",
       "    </tr>\n",
       "    <tr>\n",
       "      <th>185</th>\n",
       "      <td>2020-01-23</td>\n",
       "      <td>Afghanistan</td>\n",
       "      <td>0</td>\n",
       "      <td>0</td>\n",
       "      <td>0</td>\n",
       "    </tr>\n",
       "    <tr>\n",
       "      <th>370</th>\n",
       "      <td>2020-01-24</td>\n",
       "      <td>Afghanistan</td>\n",
       "      <td>0</td>\n",
       "      <td>0</td>\n",
       "      <td>0</td>\n",
       "    </tr>\n",
       "    <tr>\n",
       "      <th>555</th>\n",
       "      <td>2020-01-25</td>\n",
       "      <td>Afghanistan</td>\n",
       "      <td>0</td>\n",
       "      <td>0</td>\n",
       "      <td>0</td>\n",
       "    </tr>\n",
       "    <tr>\n",
       "      <th>740</th>\n",
       "      <td>2020-01-26</td>\n",
       "      <td>Afghanistan</td>\n",
       "      <td>0</td>\n",
       "      <td>0</td>\n",
       "      <td>0</td>\n",
       "    </tr>\n",
       "    <tr>\n",
       "      <th>...</th>\n",
       "      <td>...</td>\n",
       "      <td>...</td>\n",
       "      <td>...</td>\n",
       "      <td>...</td>\n",
       "      <td>...</td>\n",
       "    </tr>\n",
       "    <tr>\n",
       "      <th>16835</th>\n",
       "      <td>2020-04-22</td>\n",
       "      <td>Afghanistan</td>\n",
       "      <td>1176</td>\n",
       "      <td>166</td>\n",
       "      <td>40</td>\n",
       "    </tr>\n",
       "    <tr>\n",
       "      <th>17020</th>\n",
       "      <td>2020-04-23</td>\n",
       "      <td>Afghanistan</td>\n",
       "      <td>1279</td>\n",
       "      <td>179</td>\n",
       "      <td>42</td>\n",
       "    </tr>\n",
       "    <tr>\n",
       "      <th>17205</th>\n",
       "      <td>2020-04-24</td>\n",
       "      <td>Afghanistan</td>\n",
       "      <td>1351</td>\n",
       "      <td>188</td>\n",
       "      <td>43</td>\n",
       "    </tr>\n",
       "    <tr>\n",
       "      <th>17390</th>\n",
       "      <td>2020-04-25</td>\n",
       "      <td>Afghanistan</td>\n",
       "      <td>1463</td>\n",
       "      <td>188</td>\n",
       "      <td>47</td>\n",
       "    </tr>\n",
       "    <tr>\n",
       "      <th>17575</th>\n",
       "      <td>2020-04-26</td>\n",
       "      <td>Afghanistan</td>\n",
       "      <td>1531</td>\n",
       "      <td>207</td>\n",
       "      <td>50</td>\n",
       "    </tr>\n",
       "  </tbody>\n",
       "</table>\n",
       "<p>96 rows × 5 columns</p>\n",
       "</div>"
      ],
      "text/plain": [
       "             date      country  confirmed  recovered  deaths\n",
       "0      2020-01-22  Afghanistan          0          0       0\n",
       "185    2020-01-23  Afghanistan          0          0       0\n",
       "370    2020-01-24  Afghanistan          0          0       0\n",
       "555    2020-01-25  Afghanistan          0          0       0\n",
       "740    2020-01-26  Afghanistan          0          0       0\n",
       "...           ...          ...        ...        ...     ...\n",
       "16835  2020-04-22  Afghanistan       1176        166      40\n",
       "17020  2020-04-23  Afghanistan       1279        179      42\n",
       "17205  2020-04-24  Afghanistan       1351        188      43\n",
       "17390  2020-04-25  Afghanistan       1463        188      47\n",
       "17575  2020-04-26  Afghanistan       1531        207      50\n",
       "\n",
       "[96 rows x 5 columns]"
      ]
     },
     "execution_count": 8,
     "metadata": {},
     "output_type": "execute_result"
    }
   ],
   "source": [
    "df[df['country'] == 'Afghanistan']"
   ]
  },
  {
   "cell_type": "markdown",
   "metadata": {},
   "source": [
    "Clean up the names and make a list of all the countries"
   ]
  },
  {
   "cell_type": "code",
   "execution_count": 9,
   "metadata": {},
   "outputs": [],
   "source": [
    "# punctuations = [',', ' ', '-', '_']\n",
    "# punctuation_p = lambda s: s in punctuations\n",
    "# remove_punctuations = lambda s: ''.join([_ for _ in s if not punctuation_p(_)])\n",
    "\n",
    "    \n",
    "# country_names = [remove_punctuations(name) for name in list(set(df['country']))]\n",
    "\n",
    "country_names = [name for name in list(set(df['country']))]\n"
   ]
  },
  {
   "cell_type": "markdown",
   "metadata": {},
   "source": [
    "Create a separate dataframe for each country"
   ]
  },
  {
   "cell_type": "code",
   "execution_count": 10,
   "metadata": {},
   "outputs": [],
   "source": [
    "dfs = {country: df[df['country'] == country] for country in country_names}"
   ]
  },
  {
   "cell_type": "code",
   "execution_count": 11,
   "metadata": {},
   "outputs": [],
   "source": [
    "dfs = {country: dfs[country] for country in dfs if len(dfs[country]) > 0}"
   ]
  },
  {
   "cell_type": "markdown",
   "metadata": {},
   "source": [
    "We're going to need the new cases for each day (call it `new_cases`). The `pd.option` is a workaround so we don't get the warning message"
   ]
  },
  {
   "cell_type": "code",
   "execution_count": 12,
   "metadata": {},
   "outputs": [],
   "source": [
    "# https://stackoverflow.com/questions/21463589/pandas-chained-assignments\n",
    "pd.options.mode.chained_assignment = None\n",
    "\n",
    "def add_new_cases(df):\n",
    "    df.loc[:, 'new_cases'] = df['confirmed'].diff().fillna(0, downcast='infer')\n",
    "    return df\n",
    "\n",
    "def add_new_deaths(df):\n",
    "    df.loc[:, 'new_deaths'] = df['deaths'].diff().fillna(0, downcast='infer')\n",
    "    return df"
   ]
  },
  {
   "cell_type": "code",
   "execution_count": 13,
   "metadata": {},
   "outputs": [
    {
     "data": {
      "text/html": [
       "<div>\n",
       "<style scoped>\n",
       "    .dataframe tbody tr th:only-of-type {\n",
       "        vertical-align: middle;\n",
       "    }\n",
       "\n",
       "    .dataframe tbody tr th {\n",
       "        vertical-align: top;\n",
       "    }\n",
       "\n",
       "    .dataframe thead th {\n",
       "        text-align: right;\n",
       "    }\n",
       "</style>\n",
       "<table border=\"1\" class=\"dataframe\">\n",
       "  <thead>\n",
       "    <tr style=\"text-align: right;\">\n",
       "      <th></th>\n",
       "      <th>date</th>\n",
       "      <th>country</th>\n",
       "      <th>confirmed</th>\n",
       "      <th>recovered</th>\n",
       "      <th>deaths</th>\n",
       "      <th>new_cases</th>\n",
       "      <th>new_deaths</th>\n",
       "    </tr>\n",
       "  </thead>\n",
       "  <tbody>\n",
       "    <tr>\n",
       "      <th>65</th>\n",
       "      <td>2020-01-22</td>\n",
       "      <td>Germany</td>\n",
       "      <td>0</td>\n",
       "      <td>0</td>\n",
       "      <td>0</td>\n",
       "      <td>0</td>\n",
       "      <td>0</td>\n",
       "    </tr>\n",
       "    <tr>\n",
       "      <th>250</th>\n",
       "      <td>2020-01-23</td>\n",
       "      <td>Germany</td>\n",
       "      <td>0</td>\n",
       "      <td>0</td>\n",
       "      <td>0</td>\n",
       "      <td>0</td>\n",
       "      <td>0</td>\n",
       "    </tr>\n",
       "    <tr>\n",
       "      <th>435</th>\n",
       "      <td>2020-01-24</td>\n",
       "      <td>Germany</td>\n",
       "      <td>0</td>\n",
       "      <td>0</td>\n",
       "      <td>0</td>\n",
       "      <td>0</td>\n",
       "      <td>0</td>\n",
       "    </tr>\n",
       "    <tr>\n",
       "      <th>620</th>\n",
       "      <td>2020-01-25</td>\n",
       "      <td>Germany</td>\n",
       "      <td>0</td>\n",
       "      <td>0</td>\n",
       "      <td>0</td>\n",
       "      <td>0</td>\n",
       "      <td>0</td>\n",
       "    </tr>\n",
       "    <tr>\n",
       "      <th>805</th>\n",
       "      <td>2020-01-26</td>\n",
       "      <td>Germany</td>\n",
       "      <td>0</td>\n",
       "      <td>0</td>\n",
       "      <td>0</td>\n",
       "      <td>0</td>\n",
       "      <td>0</td>\n",
       "    </tr>\n",
       "    <tr>\n",
       "      <th>...</th>\n",
       "      <td>...</td>\n",
       "      <td>...</td>\n",
       "      <td>...</td>\n",
       "      <td>...</td>\n",
       "      <td>...</td>\n",
       "      <td>...</td>\n",
       "      <td>...</td>\n",
       "    </tr>\n",
       "    <tr>\n",
       "      <th>16900</th>\n",
       "      <td>2020-04-22</td>\n",
       "      <td>Germany</td>\n",
       "      <td>150648</td>\n",
       "      <td>99400</td>\n",
       "      <td>5279</td>\n",
       "      <td>2357</td>\n",
       "      <td>246</td>\n",
       "    </tr>\n",
       "    <tr>\n",
       "      <th>17085</th>\n",
       "      <td>2020-04-23</td>\n",
       "      <td>Germany</td>\n",
       "      <td>153129</td>\n",
       "      <td>103300</td>\n",
       "      <td>5575</td>\n",
       "      <td>2481</td>\n",
       "      <td>296</td>\n",
       "    </tr>\n",
       "    <tr>\n",
       "      <th>17270</th>\n",
       "      <td>2020-04-24</td>\n",
       "      <td>Germany</td>\n",
       "      <td>154999</td>\n",
       "      <td>109800</td>\n",
       "      <td>5760</td>\n",
       "      <td>1870</td>\n",
       "      <td>185</td>\n",
       "    </tr>\n",
       "    <tr>\n",
       "      <th>17455</th>\n",
       "      <td>2020-04-25</td>\n",
       "      <td>Germany</td>\n",
       "      <td>156513</td>\n",
       "      <td>109800</td>\n",
       "      <td>5877</td>\n",
       "      <td>1514</td>\n",
       "      <td>117</td>\n",
       "    </tr>\n",
       "    <tr>\n",
       "      <th>17640</th>\n",
       "      <td>2020-04-26</td>\n",
       "      <td>Germany</td>\n",
       "      <td>157770</td>\n",
       "      <td>112000</td>\n",
       "      <td>5976</td>\n",
       "      <td>1257</td>\n",
       "      <td>99</td>\n",
       "    </tr>\n",
       "  </tbody>\n",
       "</table>\n",
       "<p>96 rows × 7 columns</p>\n",
       "</div>"
      ],
      "text/plain": [
       "             date  country  confirmed  recovered  deaths  new_cases  \\\n",
       "65     2020-01-22  Germany          0          0       0          0   \n",
       "250    2020-01-23  Germany          0          0       0          0   \n",
       "435    2020-01-24  Germany          0          0       0          0   \n",
       "620    2020-01-25  Germany          0          0       0          0   \n",
       "805    2020-01-26  Germany          0          0       0          0   \n",
       "...           ...      ...        ...        ...     ...        ...   \n",
       "16900  2020-04-22  Germany     150648      99400    5279       2357   \n",
       "17085  2020-04-23  Germany     153129     103300    5575       2481   \n",
       "17270  2020-04-24  Germany     154999     109800    5760       1870   \n",
       "17455  2020-04-25  Germany     156513     109800    5877       1514   \n",
       "17640  2020-04-26  Germany     157770     112000    5976       1257   \n",
       "\n",
       "       new_deaths  \n",
       "65              0  \n",
       "250             0  \n",
       "435             0  \n",
       "620             0  \n",
       "805             0  \n",
       "...           ...  \n",
       "16900         246  \n",
       "17085         296  \n",
       "17270         185  \n",
       "17455         117  \n",
       "17640          99  \n",
       "\n",
       "[96 rows x 7 columns]"
      ]
     },
     "execution_count": 13,
     "metadata": {},
     "output_type": "execute_result"
    }
   ],
   "source": [
    "add_new_deaths(add_new_cases(dfs['Germany']))"
   ]
  },
  {
   "cell_type": "code",
   "execution_count": 14,
   "metadata": {},
   "outputs": [],
   "source": [
    "dfs = {country: add_new_deaths(add_new_cases(dfs[country])) for country in country_names}"
   ]
  },
  {
   "cell_type": "markdown",
   "metadata": {},
   "source": [
    "We only consider countries at the top of the list to declutter the plot area. You can change the threshold or ignore it."
   ]
  },
  {
   "cell_type": "code",
   "execution_count": 15,
   "metadata": {},
   "outputs": [],
   "source": [
    "max_cases = 20000\n",
    "\n",
    "countries_large = [country_name for country_name in country_names if dfs[country_name]['confirmed'].iloc[-1] > max_cases]"
   ]
  },
  {
   "cell_type": "code",
   "execution_count": 16,
   "metadata": {},
   "outputs": [
    {
     "data": {
      "text/plain": [
       "['Germany',\n",
       " 'Ecuador',\n",
       " 'Brazil',\n",
       " 'France',\n",
       " 'US',\n",
       " 'Iran',\n",
       " 'Italy',\n",
       " 'Portugal',\n",
       " 'Belgium',\n",
       " 'Canada',\n",
       " 'Switzerland',\n",
       " 'Russia',\n",
       " 'Peru',\n",
       " 'Netherlands',\n",
       " 'Turkey',\n",
       " 'China',\n",
       " 'United Kingdom',\n",
       " 'Spain',\n",
       " 'India']"
      ]
     },
     "execution_count": 16,
     "metadata": {},
     "output_type": "execute_result"
    }
   ],
   "source": [
    "countries_large"
   ]
  },
  {
   "cell_type": "markdown",
   "metadata": {},
   "source": [
    "Before putting it all together create a little prototype of plots we want to create"
   ]
  },
  {
   "cell_type": "code",
   "execution_count": 17,
   "metadata": {},
   "outputs": [
    {
     "data": {
      "text/html": [
       "<div>\n",
       "<style scoped>\n",
       "    .dataframe tbody tr th:only-of-type {\n",
       "        vertical-align: middle;\n",
       "    }\n",
       "\n",
       "    .dataframe tbody tr th {\n",
       "        vertical-align: top;\n",
       "    }\n",
       "\n",
       "    .dataframe thead th {\n",
       "        text-align: right;\n",
       "    }\n",
       "</style>\n",
       "<table border=\"1\" class=\"dataframe\">\n",
       "  <thead>\n",
       "    <tr style=\"text-align: right;\">\n",
       "      <th></th>\n",
       "      <th>date</th>\n",
       "      <th>country</th>\n",
       "      <th>confirmed</th>\n",
       "      <th>recovered</th>\n",
       "      <th>deaths</th>\n",
       "      <th>new_cases</th>\n",
       "      <th>new_deaths</th>\n",
       "    </tr>\n",
       "  </thead>\n",
       "  <tbody>\n",
       "    <tr>\n",
       "      <th>65</th>\n",
       "      <td>2020-01-22</td>\n",
       "      <td>Germany</td>\n",
       "      <td>0</td>\n",
       "      <td>0</td>\n",
       "      <td>0</td>\n",
       "      <td>0</td>\n",
       "      <td>0</td>\n",
       "    </tr>\n",
       "    <tr>\n",
       "      <th>250</th>\n",
       "      <td>2020-01-23</td>\n",
       "      <td>Germany</td>\n",
       "      <td>0</td>\n",
       "      <td>0</td>\n",
       "      <td>0</td>\n",
       "      <td>0</td>\n",
       "      <td>0</td>\n",
       "    </tr>\n",
       "    <tr>\n",
       "      <th>435</th>\n",
       "      <td>2020-01-24</td>\n",
       "      <td>Germany</td>\n",
       "      <td>0</td>\n",
       "      <td>0</td>\n",
       "      <td>0</td>\n",
       "      <td>0</td>\n",
       "      <td>0</td>\n",
       "    </tr>\n",
       "    <tr>\n",
       "      <th>620</th>\n",
       "      <td>2020-01-25</td>\n",
       "      <td>Germany</td>\n",
       "      <td>0</td>\n",
       "      <td>0</td>\n",
       "      <td>0</td>\n",
       "      <td>0</td>\n",
       "      <td>0</td>\n",
       "    </tr>\n",
       "    <tr>\n",
       "      <th>805</th>\n",
       "      <td>2020-01-26</td>\n",
       "      <td>Germany</td>\n",
       "      <td>0</td>\n",
       "      <td>0</td>\n",
       "      <td>0</td>\n",
       "      <td>0</td>\n",
       "      <td>0</td>\n",
       "    </tr>\n",
       "    <tr>\n",
       "      <th>...</th>\n",
       "      <td>...</td>\n",
       "      <td>...</td>\n",
       "      <td>...</td>\n",
       "      <td>...</td>\n",
       "      <td>...</td>\n",
       "      <td>...</td>\n",
       "      <td>...</td>\n",
       "    </tr>\n",
       "    <tr>\n",
       "      <th>16900</th>\n",
       "      <td>2020-04-22</td>\n",
       "      <td>Germany</td>\n",
       "      <td>150648</td>\n",
       "      <td>99400</td>\n",
       "      <td>5279</td>\n",
       "      <td>2357</td>\n",
       "      <td>246</td>\n",
       "    </tr>\n",
       "    <tr>\n",
       "      <th>17085</th>\n",
       "      <td>2020-04-23</td>\n",
       "      <td>Germany</td>\n",
       "      <td>153129</td>\n",
       "      <td>103300</td>\n",
       "      <td>5575</td>\n",
       "      <td>2481</td>\n",
       "      <td>296</td>\n",
       "    </tr>\n",
       "    <tr>\n",
       "      <th>17270</th>\n",
       "      <td>2020-04-24</td>\n",
       "      <td>Germany</td>\n",
       "      <td>154999</td>\n",
       "      <td>109800</td>\n",
       "      <td>5760</td>\n",
       "      <td>1870</td>\n",
       "      <td>185</td>\n",
       "    </tr>\n",
       "    <tr>\n",
       "      <th>17455</th>\n",
       "      <td>2020-04-25</td>\n",
       "      <td>Germany</td>\n",
       "      <td>156513</td>\n",
       "      <td>109800</td>\n",
       "      <td>5877</td>\n",
       "      <td>1514</td>\n",
       "      <td>117</td>\n",
       "    </tr>\n",
       "    <tr>\n",
       "      <th>17640</th>\n",
       "      <td>2020-04-26</td>\n",
       "      <td>Germany</td>\n",
       "      <td>157770</td>\n",
       "      <td>112000</td>\n",
       "      <td>5976</td>\n",
       "      <td>1257</td>\n",
       "      <td>99</td>\n",
       "    </tr>\n",
       "  </tbody>\n",
       "</table>\n",
       "<p>96 rows × 7 columns</p>\n",
       "</div>"
      ],
      "text/plain": [
       "             date  country  confirmed  recovered  deaths  new_cases  \\\n",
       "65     2020-01-22  Germany          0          0       0          0   \n",
       "250    2020-01-23  Germany          0          0       0          0   \n",
       "435    2020-01-24  Germany          0          0       0          0   \n",
       "620    2020-01-25  Germany          0          0       0          0   \n",
       "805    2020-01-26  Germany          0          0       0          0   \n",
       "...           ...      ...        ...        ...     ...        ...   \n",
       "16900  2020-04-22  Germany     150648      99400    5279       2357   \n",
       "17085  2020-04-23  Germany     153129     103300    5575       2481   \n",
       "17270  2020-04-24  Germany     154999     109800    5760       1870   \n",
       "17455  2020-04-25  Germany     156513     109800    5877       1514   \n",
       "17640  2020-04-26  Germany     157770     112000    5976       1257   \n",
       "\n",
       "       new_deaths  \n",
       "65              0  \n",
       "250             0  \n",
       "435             0  \n",
       "620             0  \n",
       "805             0  \n",
       "...           ...  \n",
       "16900         246  \n",
       "17085         296  \n",
       "17270         185  \n",
       "17455         117  \n",
       "17640          99  \n",
       "\n",
       "[96 rows x 7 columns]"
      ]
     },
     "execution_count": 17,
     "metadata": {},
     "output_type": "execute_result"
    }
   ],
   "source": [
    "de = dfs['Germany']\n",
    "de"
   ]
  },
  {
   "cell_type": "code",
   "execution_count": 18,
   "metadata": {},
   "outputs": [],
   "source": [
    "moving_average = lambda df, n: df.rolling(n).mean().fillna(0).map(np.floor).map(int)"
   ]
  },
  {
   "cell_type": "code",
   "execution_count": 19,
   "metadata": {},
   "outputs": [],
   "source": [
    "import datetime\n",
    "import matplotlib.dates as mdates"
   ]
  },
  {
   "cell_type": "markdown",
   "metadata": {},
   "source": [
    "def f(slider):\n",
    "\n",
    "    today = datetime.date.today()\n",
    "    x = np.arange(1, 10, 0.1)\n",
    "    x_date = [today - datetime.timedelta(i) for i in range(len(x))]\n",
    "    y = np.exp(x)\n",
    "\n",
    "    fmt = mdates.DateFormatter('%b')\n",
    "    locator = mdates.MonthLocator()\n",
    "    fig, ax = plt.subplots(figsize=(12, 8))\n",
    "    ax.plot(x_date, y)\n",
    "    ax.xaxis.set_major_formatter(fmt)\n",
    "    ax.xaxis.set_major_locator(locator)\n",
    "\n",
    "from ipywidgets import widgets\n",
    "import datetime\n",
    "dates = [datetime.date(2015, i, 1) for i in range(1, 13)]\n",
    "# options = [(i.strftime('%b'), i) for i in dates]\n",
    "options = [(i.strftime('%b'), i) for i in x_date]\n",
    "\n",
    "\n",
    "widgets.interactive(f, slider=widgets.SelectionRangeSlider(\n",
    "    options=options,\n",
    "    index=(0, 3),\n",
    "    description='Months',\n",
    "    disabled=False,\n",
    "    continuous_update=False))"
   ]
  },
  {
   "cell_type": "code",
   "execution_count": 20,
   "metadata": {},
   "outputs": [
    {
     "data": {
      "image/png": "[encoded data removed]",
      "text/plain": [
       "<Figure size 864x576 with 1 Axes>"
      ]
     },
     "metadata": {
      "needs_background": "light"
     },
     "output_type": "display_data"
    }
   ],
   "source": [
    "today = datetime.date.today()\n",
    "x = np.arange(1, 10, 0.1)\n",
    "x_date = [today - datetime.timedelta(i) for i in range(len(x))]\n",
    "y = np.exp(x)\n",
    "\n",
    "# https://matplotlib.org/3.1.1/api/dates_api.html#matplotlib.dates.ConciseDateFormatter\n",
    "fmt = mdates.DateFormatter('%b')\n",
    "locator = mdates.MonthLocator()\n",
    "fig, ax = plt.subplots(figsize=(12, 8))\n",
    "ax.plot(x_date, y)\n",
    "ax.xaxis.set_major_formatter(fmt)\n",
    "ax.xaxis.set_major_locator(locator)\n",
    "\n",
    "from ipywidgets import widgets\n",
    "import datetime\n",
    "dates = [datetime.date(2015, i, 1) for i in range(1, 13)]\n",
    "# options = [(i.strftime('%b'), i) for i in dates]\n",
    "options = [(i.strftime('%b'), i) for i in x_date]\n",
    "\n",
    "out = widgets.SelectionRangeSlider(\n",
    "    options=options,\n",
    "    index=(0, 4),\n",
    "    description='Months',\n",
    "    disabled=False,\n",
    "    continuous_update=False\n",
    ")\n"
   ]
  },
  {
   "cell_type": "code",
   "execution_count": 21,
   "metadata": {},
   "outputs": [
    {
     "data": {
      "image/png": "[encoded data removed]",
      "text/plain": [
       "<Figure size 432x288 with 1 Axes>"
      ]
     },
     "metadata": {
      "needs_background": "light"
     },
     "output_type": "display_data"
    }
   ],
   "source": [
    "import datetime\n",
    "import numpy as np\n",
    "import matplotlib.pyplot as plt\n",
    "import matplotlib.dates as mdates\n",
    "\n",
    "# Generate some random date-time data\n",
    "numdays = 500\n",
    "base = datetime.datetime.today()\n",
    "date_list = [base - datetime.timedelta(days=x) for x in range(0, numdays)]\n",
    "y = np.random.rand(numdays)\n",
    "\n",
    "# Set the locator\n",
    "locator = mdates.MonthLocator()  # every month\n",
    "# Specify the format - %b gives us Jan, Feb...\n",
    "fmt = mdates.DateFormatter('%b')\n",
    "\n",
    "\n",
    "plt.plot(date_list,y)\n",
    "X = plt.gca().xaxis\n",
    "X.set_major_locator(locator)\n",
    "# Specify formatter\n",
    "X.set_major_formatter(fmt)\n",
    "plt.show()"
   ]
  },
  {
   "cell_type": "code",
   "execution_count": 22,
   "metadata": {},
   "outputs": [
    {
     "data": {
      "image/png": "[encoded data removed]",
      "text/plain": [
       "<Figure size 864x576 with 1 Axes>"
      ]
     },
     "metadata": {
      "needs_background": "light"
     },
     "output_type": "display_data"
    }
   ],
   "source": [
    "cl = [sns.color_palette(\"Blues_r\", 5)[3]] * len(de)\n",
    "cl0 = sns.color_palette(\"Blues_r\", 5)[3]\n",
    "\n",
    "de = dfs['Germany']\n",
    "\n",
    "fig, ax = plt.subplots(figsize=(12, 8))\n",
    "\n",
    "ax.bar(de['date'], de['new_cases'], fc=cl0)\n",
    "ax.plot(de['date'], moving_average(de['new_cases'], 5))\n",
    "ax.xaxis.set_major_locator(plt.MaxNLocator(7))\n"
   ]
  },
  {
   "cell_type": "markdown",
   "metadata": {},
   "source": [
    "I didn't put a check for `ipywidgets` package. You can find the installation instructions in the following [page](https://ipywidgets.readthedocs.io/en/latest/user_install.html:link)"
   ]
  },
  {
   "cell_type": "code",
   "execution_count": 31,
   "metadata": {
    "scrolled": false
   },
   "outputs": [
    {
     "data": {
      "application/vnd.jupyter.widget-view+json": {
       "model_id": "e3b0d5d92a394f6e9c79d067c4cefba6",
       "version_major": 2,
       "version_minor": 0
      },
      "text/plain": [
       "interactive(children=(Dropdown(description='name', options=('Germany', 'Ecuador', 'Brazil', 'France', 'US', 'I…"
      ]
     },
     "metadata": {},
     "output_type": "display_data"
    }
   ],
   "source": [
    "from ipywidgets import interactive\n",
    "\n",
    "def draw_new_cases(name, **kwargs):\n",
    "    \n",
    "    log_scale = kwargs.get('log_scale', False)\n",
    "    ylimit_on_focus = kwargs.get('Y_limit', False)\n",
    "    has_moving_ave = kwargs.get('has_moving_ave', False)\n",
    "    days_moving_ave = kwargs.get('days_moving_ave', 5)\n",
    "    \n",
    "    fig, ax = plt.subplots(figsize=(10, 8))\n",
    "    \n",
    "    pltargs = {'color':'b', 'lw':0.15}\n",
    "    for country in countries_large:\n",
    "        if name == country: continue\n",
    "        df = dfs[country]\n",
    "        ax.plot(df['date'], df['new_cases'], **pltargs)\n",
    "        \n",
    "    # now the highlighted plot\n",
    "    pltargs = {'color':'b', 'lw':2}\n",
    "    df = dfs[name]\n",
    "    ax.bar(df['date'], df['new_cases'], color=cl)\n",
    "    if has_moving_ave:\n",
    "        ax.plot(df['date'], moving_average(df['new_cases'], days_moving_ave), **pltargs)\n",
    "        \n",
    "    if log_scale: ax.set_yscale('log')\n",
    "    if ylimit_on_focus: ax.set_ylim(bottom=0., top=df['new_cases'].max()*1.1)\n",
    "    ax.xaxis.set_major_locator(plt.MaxNLocator(8))\n",
    "    \n",
    "        \n",
    "# interactive(draw_new_cases,\n",
    "#             {'name':countries_large,\n",
    "#             'log scale':False,\n",
    "#             'Y-limit':True,\n",
    "#            'moving average':(2, 10)})\n",
    "interactive(draw_new_cases,\n",
    "            name=countries_large,\n",
    "             log_scale=False,\n",
    "             Y_limit=True,\n",
    "            has_moving_ave=True,\n",
    "            days_moving_ave=(2, 10))"
   ]
  },
  {
   "cell_type": "code",
   "execution_count": 32,
   "metadata": {},
   "outputs": [],
   "source": [
    "from ipywidgets import Layout, Output, HBox, VBox, Label, Button\n",
    "from ipywidgets import RadioButtons, IntRangeSlider, IntSlider, GridspecLayout, Checkbox, ColorPicker, Textarea, Dropdown"
   ]
  },
  {
   "cell_type": "code",
   "execution_count": 33,
   "metadata": {},
   "outputs": [
    {
     "data": {
      "text/plain": [
       "(0.6718954248366014, 0.8143790849673203, 0.9006535947712418)"
      ]
     },
     "execution_count": 33,
     "metadata": {},
     "output_type": "execute_result"
    }
   ],
   "source": [
    "cl0"
   ]
  },
  {
   "cell_type": "code",
   "execution_count": 93,
   "metadata": {},
   "outputs": [],
   "source": [
    "%matplotlib widget\n",
    "\n",
    "output = Output()\n",
    "with output:\n",
    "    fig, ax = plt.subplots(constrained_layout=True, figsize=(8, 6))\n",
    "\n",
    "fig.canvas.toolbar_position = 'bottom'    "
   ]
  },
  {
   "cell_type": "code",
   "execution_count": 94,
   "metadata": {},
   "outputs": [],
   "source": [
    "for country in countries_large:\n",
    "    df = dfs[country]\n",
    "    ax.plot(df['date'], df['new_cases'])"
   ]
  },
  {
   "cell_type": "code",
   "execution_count": 95,
   "metadata": {},
   "outputs": [],
   "source": [
    "layout_checkbox = Layout(width='50px', height='50px')\n",
    "layout_list = Layout(width='90px', height='30px')\n",
    "\n",
    "max_date = Checkbox(description='max date')\n",
    "mov_ave = Checkbox(description='moving average')\n",
    "log_scale = Checkbox(description='log scale')\n",
    "\n",
    "date_slider = IntRangeSlider(description='date range')\n",
    "mov_ave_slider = IntSlider(description='mov ave days', value=5, min=2, max=10)\n",
    "\n",
    "y_lim = Checkbox(description='y limit')\n",
    "color_picker = ColorPicker()\n",
    "thickness = Textarea(\"1.2\")\n",
    "\n",
    "country_list = Dropdown(description='Country', options=countries_large)"
   ]
  },
  {
   "cell_type": "code",
   "execution_count": 96,
   "metadata": {
    "scrolled": false
   },
   "outputs": [
    {
     "data": {
      "application/vnd.jupyter.widget-view+json": {
       "model_id": "978956ce6bd84b0388afb3c12febb19f",
       "version_major": 2,
       "version_minor": 0
      },
      "text/plain": [
       "GridspecLayout(children=(Dropdown(description='Country', layout=Layout(grid_area='widget001'), options=('Germa…"
      ]
     },
     "metadata": {},
     "output_type": "display_data"
    }
   ],
   "source": [
    "grid = GridspecLayout(n_rows=18, n_columns=2, width='500x',\n",
    "                     justify_content='flex-start', align_items='flex-start')\n",
    "grid[0, 0] = country_list\n",
    "grid[1, 0] = max_date\n",
    "grid[2, 0] = mov_ave\n",
    "grid[3, 0] = log_scale\n",
    "\n",
    "grid[1, 1] = date_slider\n",
    "grid[2, 1] = mov_ave_slider\n",
    "grid[3, 1] = y_lim\n",
    "\n",
    "grid[4, 0] = color_picker\n",
    "grid[4, 1] = thickness\n",
    "grid[5:, :] = output\n",
    "\n",
    "grid"
   ]
  },
  {
   "cell_type": "code",
   "execution_count": 30,
   "metadata": {},
   "outputs": [],
   "source": [
    "\n",
    "# Callbacks\n",
    "\n",
    "def update_mov_ave(value):\n",
    "    if value.new:\n",
    "        mov_ave_slider.disabled = True\n",
    "    else:\n",
    "        mov_ave_slider.disabled = False\n",
    "#        \n",
    "mov_ave.observe(update_mov_ave, 'value')\n",
    "\n",
    "def update_max_date(value):\n",
    "    if value.new:\n",
    "        date_slider.disabled = True\n",
    "    else:\n",
    "        date_slider.disabled = False\n",
    "#\n",
    "max_date.observe(update_max_date, 'value')\n"
   ]
  }
 ],
 "metadata": {
  "@webio": {
   "lastCommId": null,
   "lastKernelId": null
  },
  "kernelspec": {
   "display_name": "Python 3",
   "language": "python",
   "name": "python3"
  },
  "language_info": {
   "codemirror_mode": {
    "name": "ipython",
    "version": 3
   },
   "file_extension": ".py",
   "mimetype": "text/x-python",
   "name": "python",
   "nbconvert_exporter": "python",
   "pygments_lexer": "ipython3",
   "version": "3.6.3"
  }
 },
 "nbformat": 4,
 "nbformat_minor": 2
}
