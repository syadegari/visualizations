{
 "cells": [
  {
   "cell_type": "markdown",
   "metadata": {},
   "source": [
    "Check for the required packages"
   ]
  },
  {
   "cell_type": "code",
   "execution_count": 1,
   "metadata": {},
   "outputs": [
    {
     "name": "stdout",
     "output_type": "stream",
     "text": [
      "Package pandas is installed\n",
      "Package matplotlib is installed\n",
      "Package seaborn is installed\n",
      "Package ipywidgets is installed\n"
     ]
    }
   ],
   "source": [
    "%%bash\n",
    "\n",
    "pip list > installed_packages\n",
    "\n",
    "check_package() {\n",
    "    if grep -q $1 installed_packages; then\n",
    "        echo Package $1 is installed\n",
    "    else\n",
    "        echo installing $1\n",
    "        pip install $1\n",
    "    fi\n",
    "}\n",
    "\n",
    "check_package \"pandas\"\n",
    "check_package \"matplotlib\"\n",
    "check_package \"seaborn\"\n",
    "check_package \"ipywidgets\""
   ]
  },
  {
   "cell_type": "markdown",
   "metadata": {},
   "source": [
    "Check out the repository"
   ]
  },
  {
   "cell_type": "code",
   "execution_count": 2,
   "metadata": {},
   "outputs": [
    {
     "name": "stdout",
     "output_type": "stream",
     "text": [
      "Updating 1162f23..9ecc3cc\n",
      "Fast-forward\n",
      " data/countries-aggregated.csv          |   269 +-\n",
      " data/key-countries-pivoted.csv         |     1 +\n",
      " data/time-series-19-covid-combined.csv |  2460 +-\n",
      " data/us_confirmed.csv                  | 60670 ++++++++++++++++---------------\n",
      " data/us_deaths.csv                     | 60670 ++++++++++++++++---------------\n",
      " data/worldwide-aggregated.csv          |    89 +-\n",
      " datapackage.json                       |    30 +-\n",
      " 7 files changed, 65582 insertions(+), 58607 deletions(-)\n",
      "total 48\n",
      "-rw-r--r--  1 syad  staff  15844 Apr 28 11:18 datapackage.json\n",
      "drwxr-xr-x  9 syad  staff    288 Apr 28 11:18 data\n",
      "drwxr-xr-x  4 syad  staff    128 Apr 27 20:43 scripts\n",
      "-rw-r--r--  1 syad  staff   4612 Apr 27 20:43 README.md\n"
     ]
    },
    {
     "name": "stderr",
     "output_type": "stream",
     "text": [
      "From https://github.com/datasets/covid-19\n",
      "   1162f23..9ecc3cc  master     -> origin/master\n"
     ]
    }
   ],
   "source": [
    "%%bash \n",
    "\n",
    "if [[ -d covid-19 ]]; then\n",
    "    cd covid-19\n",
    "    git pull\n",
    "    cd ..\n",
    "else\n",
    "    git clone https://github.com/datasets/covid-19\n",
    "fi\n",
    "\n",
    "ls -lt covid-19"
   ]
  },
  {
   "cell_type": "markdown",
   "metadata": {},
   "source": [
    "And the packages we're going to use for the visualization"
   ]
  },
  {
   "cell_type": "code",
   "execution_count": 3,
   "metadata": {},
   "outputs": [],
   "source": [
    "import numpy as np\n",
    "import pandas as pd\n",
    "import matplotlib.pyplot as plt\n",
    "import seaborn as sns"
   ]
  },
  {
   "cell_type": "markdown",
   "metadata": {},
   "source": [
    "Read the aggregated data of all countires"
   ]
  },
  {
   "cell_type": "code",
   "execution_count": 4,
   "metadata": {},
   "outputs": [],
   "source": [
    "df = pd.read_csv(\"./covid-19/data/countries-aggregated.csv\")"
   ]
  },
  {
   "cell_type": "code",
   "execution_count": 5,
   "metadata": {},
   "outputs": [
    {
     "data": {
      "text/plain": [
       "Index(['Date', 'Country', 'Confirmed', 'Recovered', 'Deaths'], dtype='object')"
      ]
     },
     "execution_count": 5,
     "metadata": {},
     "output_type": "execute_result"
    }
   ],
   "source": [
    "df.columns"
   ]
  },
  {
   "cell_type": "markdown",
   "metadata": {},
   "source": [
    "Lower the cases of all the columns to make it easier to work with names"
   ]
  },
  {
   "cell_type": "code",
   "execution_count": 6,
   "metadata": {},
   "outputs": [],
   "source": [
    "df.columns = map(str.lower, df.columns)"
   ]
  },
  {
   "cell_type": "code",
   "execution_count": 7,
   "metadata": {},
   "outputs": [
    {
     "data": {
      "text/html": [
       "<div>\n",
       "<style scoped>\n",
       "    .dataframe tbody tr th:only-of-type {\n",
       "        vertical-align: middle;\n",
       "    }\n",
       "\n",
       "    .dataframe tbody tr th {\n",
       "        vertical-align: top;\n",
       "    }\n",
       "\n",
       "    .dataframe thead th {\n",
       "        text-align: right;\n",
       "    }\n",
       "</style>\n",
       "<table border=\"1\" class=\"dataframe\">\n",
       "  <thead>\n",
       "    <tr style=\"text-align: right;\">\n",
       "      <th></th>\n",
       "      <th>date</th>\n",
       "      <th>country</th>\n",
       "      <th>confirmed</th>\n",
       "      <th>recovered</th>\n",
       "      <th>deaths</th>\n",
       "    </tr>\n",
       "  </thead>\n",
       "  <tbody>\n",
       "    <tr>\n",
       "      <th>0</th>\n",
       "      <td>2020-01-22</td>\n",
       "      <td>Afghanistan</td>\n",
       "      <td>0</td>\n",
       "      <td>0</td>\n",
       "      <td>0</td>\n",
       "    </tr>\n",
       "    <tr>\n",
       "      <th>1</th>\n",
       "      <td>2020-01-22</td>\n",
       "      <td>Albania</td>\n",
       "      <td>0</td>\n",
       "      <td>0</td>\n",
       "      <td>0</td>\n",
       "    </tr>\n",
       "    <tr>\n",
       "      <th>2</th>\n",
       "      <td>2020-01-22</td>\n",
       "      <td>Algeria</td>\n",
       "      <td>0</td>\n",
       "      <td>0</td>\n",
       "      <td>0</td>\n",
       "    </tr>\n",
       "    <tr>\n",
       "      <th>3</th>\n",
       "      <td>2020-01-22</td>\n",
       "      <td>Andorra</td>\n",
       "      <td>0</td>\n",
       "      <td>0</td>\n",
       "      <td>0</td>\n",
       "    </tr>\n",
       "    <tr>\n",
       "      <th>4</th>\n",
       "      <td>2020-01-22</td>\n",
       "      <td>Angola</td>\n",
       "      <td>0</td>\n",
       "      <td>0</td>\n",
       "      <td>0</td>\n",
       "    </tr>\n",
       "    <tr>\n",
       "      <th>...</th>\n",
       "      <td>...</td>\n",
       "      <td>...</td>\n",
       "      <td>...</td>\n",
       "      <td>...</td>\n",
       "      <td>...</td>\n",
       "    </tr>\n",
       "    <tr>\n",
       "      <th>17940</th>\n",
       "      <td>2020-04-27</td>\n",
       "      <td>West Bank and Gaza</td>\n",
       "      <td>342</td>\n",
       "      <td>83</td>\n",
       "      <td>2</td>\n",
       "    </tr>\n",
       "    <tr>\n",
       "      <th>17941</th>\n",
       "      <td>2020-04-27</td>\n",
       "      <td>Western Sahara</td>\n",
       "      <td>6</td>\n",
       "      <td>5</td>\n",
       "      <td>0</td>\n",
       "    </tr>\n",
       "    <tr>\n",
       "      <th>17942</th>\n",
       "      <td>2020-04-27</td>\n",
       "      <td>Yemen</td>\n",
       "      <td>1</td>\n",
       "      <td>1</td>\n",
       "      <td>0</td>\n",
       "    </tr>\n",
       "    <tr>\n",
       "      <th>17943</th>\n",
       "      <td>2020-04-27</td>\n",
       "      <td>Zambia</td>\n",
       "      <td>88</td>\n",
       "      <td>42</td>\n",
       "      <td>3</td>\n",
       "    </tr>\n",
       "    <tr>\n",
       "      <th>17944</th>\n",
       "      <td>2020-04-27</td>\n",
       "      <td>Zimbabwe</td>\n",
       "      <td>32</td>\n",
       "      <td>5</td>\n",
       "      <td>4</td>\n",
       "    </tr>\n",
       "  </tbody>\n",
       "</table>\n",
       "<p>17945 rows × 5 columns</p>\n",
       "</div>"
      ],
      "text/plain": [
       "             date             country  confirmed  recovered  deaths\n",
       "0      2020-01-22         Afghanistan          0          0       0\n",
       "1      2020-01-22             Albania          0          0       0\n",
       "2      2020-01-22             Algeria          0          0       0\n",
       "3      2020-01-22             Andorra          0          0       0\n",
       "4      2020-01-22              Angola          0          0       0\n",
       "...           ...                 ...        ...        ...     ...\n",
       "17940  2020-04-27  West Bank and Gaza        342         83       2\n",
       "17941  2020-04-27      Western Sahara          6          5       0\n",
       "17942  2020-04-27               Yemen          1          1       0\n",
       "17943  2020-04-27              Zambia         88         42       3\n",
       "17944  2020-04-27            Zimbabwe         32          5       4\n",
       "\n",
       "[17945 rows x 5 columns]"
      ]
     },
     "execution_count": 7,
     "metadata": {},
     "output_type": "execute_result"
    }
   ],
   "source": [
    "df"
   ]
  },
  {
   "cell_type": "code",
   "execution_count": 8,
   "metadata": {},
   "outputs": [
    {
     "data": {
      "text/html": [
       "<div>\n",
       "<style scoped>\n",
       "    .dataframe tbody tr th:only-of-type {\n",
       "        vertical-align: middle;\n",
       "    }\n",
       "\n",
       "    .dataframe tbody tr th {\n",
       "        vertical-align: top;\n",
       "    }\n",
       "\n",
       "    .dataframe thead th {\n",
       "        text-align: right;\n",
       "    }\n",
       "</style>\n",
       "<table border=\"1\" class=\"dataframe\">\n",
       "  <thead>\n",
       "    <tr style=\"text-align: right;\">\n",
       "      <th></th>\n",
       "      <th>date</th>\n",
       "      <th>country</th>\n",
       "      <th>confirmed</th>\n",
       "      <th>recovered</th>\n",
       "      <th>deaths</th>\n",
       "    </tr>\n",
       "  </thead>\n",
       "  <tbody>\n",
       "    <tr>\n",
       "      <th>0</th>\n",
       "      <td>2020-01-22</td>\n",
       "      <td>Afghanistan</td>\n",
       "      <td>0</td>\n",
       "      <td>0</td>\n",
       "      <td>0</td>\n",
       "    </tr>\n",
       "    <tr>\n",
       "      <th>185</th>\n",
       "      <td>2020-01-23</td>\n",
       "      <td>Afghanistan</td>\n",
       "      <td>0</td>\n",
       "      <td>0</td>\n",
       "      <td>0</td>\n",
       "    </tr>\n",
       "    <tr>\n",
       "      <th>370</th>\n",
       "      <td>2020-01-24</td>\n",
       "      <td>Afghanistan</td>\n",
       "      <td>0</td>\n",
       "      <td>0</td>\n",
       "      <td>0</td>\n",
       "    </tr>\n",
       "    <tr>\n",
       "      <th>555</th>\n",
       "      <td>2020-01-25</td>\n",
       "      <td>Afghanistan</td>\n",
       "      <td>0</td>\n",
       "      <td>0</td>\n",
       "      <td>0</td>\n",
       "    </tr>\n",
       "    <tr>\n",
       "      <th>740</th>\n",
       "      <td>2020-01-26</td>\n",
       "      <td>Afghanistan</td>\n",
       "      <td>0</td>\n",
       "      <td>0</td>\n",
       "      <td>0</td>\n",
       "    </tr>\n",
       "    <tr>\n",
       "      <th>...</th>\n",
       "      <td>...</td>\n",
       "      <td>...</td>\n",
       "      <td>...</td>\n",
       "      <td>...</td>\n",
       "      <td>...</td>\n",
       "    </tr>\n",
       "    <tr>\n",
       "      <th>17020</th>\n",
       "      <td>2020-04-23</td>\n",
       "      <td>Afghanistan</td>\n",
       "      <td>1279</td>\n",
       "      <td>179</td>\n",
       "      <td>42</td>\n",
       "    </tr>\n",
       "    <tr>\n",
       "      <th>17205</th>\n",
       "      <td>2020-04-24</td>\n",
       "      <td>Afghanistan</td>\n",
       "      <td>1351</td>\n",
       "      <td>188</td>\n",
       "      <td>43</td>\n",
       "    </tr>\n",
       "    <tr>\n",
       "      <th>17390</th>\n",
       "      <td>2020-04-25</td>\n",
       "      <td>Afghanistan</td>\n",
       "      <td>1463</td>\n",
       "      <td>188</td>\n",
       "      <td>47</td>\n",
       "    </tr>\n",
       "    <tr>\n",
       "      <th>17575</th>\n",
       "      <td>2020-04-26</td>\n",
       "      <td>Afghanistan</td>\n",
       "      <td>1531</td>\n",
       "      <td>207</td>\n",
       "      <td>50</td>\n",
       "    </tr>\n",
       "    <tr>\n",
       "      <th>17760</th>\n",
       "      <td>2020-04-27</td>\n",
       "      <td>Afghanistan</td>\n",
       "      <td>1703</td>\n",
       "      <td>220</td>\n",
       "      <td>57</td>\n",
       "    </tr>\n",
       "  </tbody>\n",
       "</table>\n",
       "<p>97 rows × 5 columns</p>\n",
       "</div>"
      ],
      "text/plain": [
       "             date      country  confirmed  recovered  deaths\n",
       "0      2020-01-22  Afghanistan          0          0       0\n",
       "185    2020-01-23  Afghanistan          0          0       0\n",
       "370    2020-01-24  Afghanistan          0          0       0\n",
       "555    2020-01-25  Afghanistan          0          0       0\n",
       "740    2020-01-26  Afghanistan          0          0       0\n",
       "...           ...          ...        ...        ...     ...\n",
       "17020  2020-04-23  Afghanistan       1279        179      42\n",
       "17205  2020-04-24  Afghanistan       1351        188      43\n",
       "17390  2020-04-25  Afghanistan       1463        188      47\n",
       "17575  2020-04-26  Afghanistan       1531        207      50\n",
       "17760  2020-04-27  Afghanistan       1703        220      57\n",
       "\n",
       "[97 rows x 5 columns]"
      ]
     },
     "execution_count": 8,
     "metadata": {},
     "output_type": "execute_result"
    }
   ],
   "source": [
    "df[df['country'] == 'Afghanistan']"
   ]
  },
  {
   "cell_type": "markdown",
   "metadata": {},
   "source": [
    "Clean up the names and make a list of all the countries"
   ]
  },
  {
   "cell_type": "code",
   "execution_count": 9,
   "metadata": {},
   "outputs": [],
   "source": [
    "country_names = [name for name in list(set(df['country']))]"
   ]
  },
  {
   "cell_type": "markdown",
   "metadata": {},
   "source": [
    "Create a separate dataframe for each country and filter out those with no cases"
   ]
  },
  {
   "cell_type": "code",
   "execution_count": 10,
   "metadata": {},
   "outputs": [],
   "source": [
    "dfs = {country: df[df['country'] == country] for country in country_names}"
   ]
  },
  {
   "cell_type": "code",
   "execution_count": 11,
   "metadata": {},
   "outputs": [],
   "source": [
    "dfs = {country: dfs[country] for country in dfs if len(dfs[country]) > 0}"
   ]
  },
  {
   "cell_type": "markdown",
   "metadata": {},
   "source": [
    "We're going to need the new cases for each day (call it `new_cases`). The `pd.option` is a workaround so we don't get the warning message"
   ]
  },
  {
   "cell_type": "code",
   "execution_count": 12,
   "metadata": {},
   "outputs": [],
   "source": [
    "# https://stackoverflow.com/questions/21463589/pandas-chained-assignments\n",
    "pd.options.mode.chained_assignment = None\n",
    "\n",
    "def add_new_cases(df):\n",
    "    df.loc[:, 'new_cases'] = df['confirmed'].diff().fillna(0, downcast='infer')\n",
    "    return df\n",
    "\n",
    "def add_new_deaths(df):\n",
    "    df.loc[:, 'new_deaths'] = df['deaths'].diff().fillna(0, downcast='infer')\n",
    "    return df"
   ]
  },
  {
   "cell_type": "markdown",
   "metadata": {},
   "source": [
    "See how data frame for each country looks like, for exmaple for `Germany` after adding new cases and new deaths:"
   ]
  },
  {
   "cell_type": "code",
   "execution_count": 411,
   "metadata": {},
   "outputs": [
    {
     "data": {
      "text/html": [
       "<div>\n",
       "<style scoped>\n",
       "    .dataframe tbody tr th:only-of-type {\n",
       "        vertical-align: middle;\n",
       "    }\n",
       "\n",
       "    .dataframe tbody tr th {\n",
       "        vertical-align: top;\n",
       "    }\n",
       "\n",
       "    .dataframe thead th {\n",
       "        text-align: right;\n",
       "    }\n",
       "</style>\n",
       "<table border=\"1\" class=\"dataframe\">\n",
       "  <thead>\n",
       "    <tr style=\"text-align: right;\">\n",
       "      <th></th>\n",
       "      <th>date</th>\n",
       "      <th>country</th>\n",
       "      <th>confirmed</th>\n",
       "      <th>recovered</th>\n",
       "      <th>deaths</th>\n",
       "      <th>new_cases</th>\n",
       "      <th>new_deaths</th>\n",
       "    </tr>\n",
       "  </thead>\n",
       "  <tbody>\n",
       "    <tr>\n",
       "      <th>65</th>\n",
       "      <td>2020-01-22</td>\n",
       "      <td>Germany</td>\n",
       "      <td>0</td>\n",
       "      <td>0</td>\n",
       "      <td>0</td>\n",
       "      <td>0</td>\n",
       "      <td>0</td>\n",
       "    </tr>\n",
       "    <tr>\n",
       "      <th>250</th>\n",
       "      <td>2020-01-23</td>\n",
       "      <td>Germany</td>\n",
       "      <td>0</td>\n",
       "      <td>0</td>\n",
       "      <td>0</td>\n",
       "      <td>0</td>\n",
       "      <td>0</td>\n",
       "    </tr>\n",
       "    <tr>\n",
       "      <th>435</th>\n",
       "      <td>2020-01-24</td>\n",
       "      <td>Germany</td>\n",
       "      <td>0</td>\n",
       "      <td>0</td>\n",
       "      <td>0</td>\n",
       "      <td>0</td>\n",
       "      <td>0</td>\n",
       "    </tr>\n",
       "    <tr>\n",
       "      <th>620</th>\n",
       "      <td>2020-01-25</td>\n",
       "      <td>Germany</td>\n",
       "      <td>0</td>\n",
       "      <td>0</td>\n",
       "      <td>0</td>\n",
       "      <td>0</td>\n",
       "      <td>0</td>\n",
       "    </tr>\n",
       "    <tr>\n",
       "      <th>805</th>\n",
       "      <td>2020-01-26</td>\n",
       "      <td>Germany</td>\n",
       "      <td>0</td>\n",
       "      <td>0</td>\n",
       "      <td>0</td>\n",
       "      <td>0</td>\n",
       "      <td>0</td>\n",
       "    </tr>\n",
       "    <tr>\n",
       "      <th>...</th>\n",
       "      <td>...</td>\n",
       "      <td>...</td>\n",
       "      <td>...</td>\n",
       "      <td>...</td>\n",
       "      <td>...</td>\n",
       "      <td>...</td>\n",
       "      <td>...</td>\n",
       "    </tr>\n",
       "    <tr>\n",
       "      <th>17085</th>\n",
       "      <td>2020-04-23</td>\n",
       "      <td>Germany</td>\n",
       "      <td>153129</td>\n",
       "      <td>103300</td>\n",
       "      <td>5575</td>\n",
       "      <td>2481</td>\n",
       "      <td>296</td>\n",
       "    </tr>\n",
       "    <tr>\n",
       "      <th>17270</th>\n",
       "      <td>2020-04-24</td>\n",
       "      <td>Germany</td>\n",
       "      <td>154999</td>\n",
       "      <td>109800</td>\n",
       "      <td>5760</td>\n",
       "      <td>1870</td>\n",
       "      <td>185</td>\n",
       "    </tr>\n",
       "    <tr>\n",
       "      <th>17455</th>\n",
       "      <td>2020-04-25</td>\n",
       "      <td>Germany</td>\n",
       "      <td>156513</td>\n",
       "      <td>109800</td>\n",
       "      <td>5877</td>\n",
       "      <td>1514</td>\n",
       "      <td>117</td>\n",
       "    </tr>\n",
       "    <tr>\n",
       "      <th>17640</th>\n",
       "      <td>2020-04-26</td>\n",
       "      <td>Germany</td>\n",
       "      <td>157770</td>\n",
       "      <td>112000</td>\n",
       "      <td>5976</td>\n",
       "      <td>1257</td>\n",
       "      <td>99</td>\n",
       "    </tr>\n",
       "    <tr>\n",
       "      <th>17825</th>\n",
       "      <td>2020-04-27</td>\n",
       "      <td>Germany</td>\n",
       "      <td>158758</td>\n",
       "      <td>114500</td>\n",
       "      <td>6126</td>\n",
       "      <td>988</td>\n",
       "      <td>150</td>\n",
       "    </tr>\n",
       "  </tbody>\n",
       "</table>\n",
       "<p>97 rows × 7 columns</p>\n",
       "</div>"
      ],
      "text/plain": [
       "             date  country  confirmed  recovered  deaths  new_cases  \\\n",
       "65     2020-01-22  Germany          0          0       0          0   \n",
       "250    2020-01-23  Germany          0          0       0          0   \n",
       "435    2020-01-24  Germany          0          0       0          0   \n",
       "620    2020-01-25  Germany          0          0       0          0   \n",
       "805    2020-01-26  Germany          0          0       0          0   \n",
       "...           ...      ...        ...        ...     ...        ...   \n",
       "17085  2020-04-23  Germany     153129     103300    5575       2481   \n",
       "17270  2020-04-24  Germany     154999     109800    5760       1870   \n",
       "17455  2020-04-25  Germany     156513     109800    5877       1514   \n",
       "17640  2020-04-26  Germany     157770     112000    5976       1257   \n",
       "17825  2020-04-27  Germany     158758     114500    6126        988   \n",
       "\n",
       "       new_deaths  \n",
       "65              0  \n",
       "250             0  \n",
       "435             0  \n",
       "620             0  \n",
       "805             0  \n",
       "...           ...  \n",
       "17085         296  \n",
       "17270         185  \n",
       "17455         117  \n",
       "17640          99  \n",
       "17825         150  \n",
       "\n",
       "[97 rows x 7 columns]"
      ]
     },
     "execution_count": 411,
     "metadata": {},
     "output_type": "execute_result"
    }
   ],
   "source": [
    "add_new_deaths(add_new_cases(dfs['Germany']))"
   ]
  },
  {
   "cell_type": "markdown",
   "metadata": {},
   "source": [
    "`dfs` contains all the data we'll work with later:"
   ]
  },
  {
   "cell_type": "code",
   "execution_count": 413,
   "metadata": {},
   "outputs": [],
   "source": [
    "dfs = {country: add_new_deaths(add_new_cases(dfs[country])) for country in country_names}"
   ]
  },
  {
   "cell_type": "markdown",
   "metadata": {},
   "source": [
    "We only consider countries at the top of the list to declutter the plot area. You can change the threshold or ignore it, but especially for debugging it's a good idea to only work with a handful of countries at the top of the list"
   ]
  },
  {
   "cell_type": "code",
   "execution_count": 412,
   "metadata": {},
   "outputs": [],
   "source": [
    "max_cases = 140000\n",
    "\n",
    "countries_large = [country_name for country_name in country_names if dfs[country_name]['confirmed'].iloc[-1] > max_cases]"
   ]
  },
  {
   "cell_type": "code",
   "execution_count": 16,
   "metadata": {},
   "outputs": [
    {
     "data": {
      "text/plain": [
       "['US', 'Spain', 'United Kingdom', 'Italy', 'France', 'Germany']"
      ]
     },
     "execution_count": 16,
     "metadata": {},
     "output_type": "execute_result"
    }
   ],
   "source": [
    "countries_large"
   ]
  },
  {
   "cell_type": "markdown",
   "metadata": {},
   "source": [
    "Before putting it all together, we create a little prototype of the plots we want to have later"
   ]
  },
  {
   "cell_type": "code",
   "execution_count": 414,
   "metadata": {},
   "outputs": [
    {
     "data": {
      "text/html": [
       "<div>\n",
       "<style scoped>\n",
       "    .dataframe tbody tr th:only-of-type {\n",
       "        vertical-align: middle;\n",
       "    }\n",
       "\n",
       "    .dataframe tbody tr th {\n",
       "        vertical-align: top;\n",
       "    }\n",
       "\n",
       "    .dataframe thead th {\n",
       "        text-align: right;\n",
       "    }\n",
       "</style>\n",
       "<table border=\"1\" class=\"dataframe\">\n",
       "  <thead>\n",
       "    <tr style=\"text-align: right;\">\n",
       "      <th></th>\n",
       "      <th>date</th>\n",
       "      <th>country</th>\n",
       "      <th>confirmed</th>\n",
       "      <th>recovered</th>\n",
       "      <th>deaths</th>\n",
       "      <th>new_cases</th>\n",
       "      <th>new_deaths</th>\n",
       "    </tr>\n",
       "  </thead>\n",
       "  <tbody>\n",
       "    <tr>\n",
       "      <th>65</th>\n",
       "      <td>2020-01-22</td>\n",
       "      <td>Germany</td>\n",
       "      <td>0</td>\n",
       "      <td>0</td>\n",
       "      <td>0</td>\n",
       "      <td>0</td>\n",
       "      <td>0</td>\n",
       "    </tr>\n",
       "    <tr>\n",
       "      <th>250</th>\n",
       "      <td>2020-01-23</td>\n",
       "      <td>Germany</td>\n",
       "      <td>0</td>\n",
       "      <td>0</td>\n",
       "      <td>0</td>\n",
       "      <td>0</td>\n",
       "      <td>0</td>\n",
       "    </tr>\n",
       "    <tr>\n",
       "      <th>435</th>\n",
       "      <td>2020-01-24</td>\n",
       "      <td>Germany</td>\n",
       "      <td>0</td>\n",
       "      <td>0</td>\n",
       "      <td>0</td>\n",
       "      <td>0</td>\n",
       "      <td>0</td>\n",
       "    </tr>\n",
       "    <tr>\n",
       "      <th>620</th>\n",
       "      <td>2020-01-25</td>\n",
       "      <td>Germany</td>\n",
       "      <td>0</td>\n",
       "      <td>0</td>\n",
       "      <td>0</td>\n",
       "      <td>0</td>\n",
       "      <td>0</td>\n",
       "    </tr>\n",
       "    <tr>\n",
       "      <th>805</th>\n",
       "      <td>2020-01-26</td>\n",
       "      <td>Germany</td>\n",
       "      <td>0</td>\n",
       "      <td>0</td>\n",
       "      <td>0</td>\n",
       "      <td>0</td>\n",
       "      <td>0</td>\n",
       "    </tr>\n",
       "    <tr>\n",
       "      <th>...</th>\n",
       "      <td>...</td>\n",
       "      <td>...</td>\n",
       "      <td>...</td>\n",
       "      <td>...</td>\n",
       "      <td>...</td>\n",
       "      <td>...</td>\n",
       "      <td>...</td>\n",
       "    </tr>\n",
       "    <tr>\n",
       "      <th>17085</th>\n",
       "      <td>2020-04-23</td>\n",
       "      <td>Germany</td>\n",
       "      <td>153129</td>\n",
       "      <td>103300</td>\n",
       "      <td>5575</td>\n",
       "      <td>2481</td>\n",
       "      <td>296</td>\n",
       "    </tr>\n",
       "    <tr>\n",
       "      <th>17270</th>\n",
       "      <td>2020-04-24</td>\n",
       "      <td>Germany</td>\n",
       "      <td>154999</td>\n",
       "      <td>109800</td>\n",
       "      <td>5760</td>\n",
       "      <td>1870</td>\n",
       "      <td>185</td>\n",
       "    </tr>\n",
       "    <tr>\n",
       "      <th>17455</th>\n",
       "      <td>2020-04-25</td>\n",
       "      <td>Germany</td>\n",
       "      <td>156513</td>\n",
       "      <td>109800</td>\n",
       "      <td>5877</td>\n",
       "      <td>1514</td>\n",
       "      <td>117</td>\n",
       "    </tr>\n",
       "    <tr>\n",
       "      <th>17640</th>\n",
       "      <td>2020-04-26</td>\n",
       "      <td>Germany</td>\n",
       "      <td>157770</td>\n",
       "      <td>112000</td>\n",
       "      <td>5976</td>\n",
       "      <td>1257</td>\n",
       "      <td>99</td>\n",
       "    </tr>\n",
       "    <tr>\n",
       "      <th>17825</th>\n",
       "      <td>2020-04-27</td>\n",
       "      <td>Germany</td>\n",
       "      <td>158758</td>\n",
       "      <td>114500</td>\n",
       "      <td>6126</td>\n",
       "      <td>988</td>\n",
       "      <td>150</td>\n",
       "    </tr>\n",
       "  </tbody>\n",
       "</table>\n",
       "<p>97 rows × 7 columns</p>\n",
       "</div>"
      ],
      "text/plain": [
       "             date  country  confirmed  recovered  deaths  new_cases  \\\n",
       "65     2020-01-22  Germany          0          0       0          0   \n",
       "250    2020-01-23  Germany          0          0       0          0   \n",
       "435    2020-01-24  Germany          0          0       0          0   \n",
       "620    2020-01-25  Germany          0          0       0          0   \n",
       "805    2020-01-26  Germany          0          0       0          0   \n",
       "...           ...      ...        ...        ...     ...        ...   \n",
       "17085  2020-04-23  Germany     153129     103300    5575       2481   \n",
       "17270  2020-04-24  Germany     154999     109800    5760       1870   \n",
       "17455  2020-04-25  Germany     156513     109800    5877       1514   \n",
       "17640  2020-04-26  Germany     157770     112000    5976       1257   \n",
       "17825  2020-04-27  Germany     158758     114500    6126        988   \n",
       "\n",
       "       new_deaths  \n",
       "65              0  \n",
       "250             0  \n",
       "435             0  \n",
       "620             0  \n",
       "805             0  \n",
       "...           ...  \n",
       "17085         296  \n",
       "17270         185  \n",
       "17455         117  \n",
       "17640          99  \n",
       "17825         150  \n",
       "\n",
       "[97 rows x 7 columns]"
      ]
     },
     "execution_count": 414,
     "metadata": {},
     "output_type": "execute_result"
    }
   ],
   "source": [
    "de = dfs['Germany']\n",
    "de"
   ]
  },
  {
   "cell_type": "markdown",
   "metadata": {},
   "source": [
    "A one-liner for calculating moving averages "
   ]
  },
  {
   "cell_type": "code",
   "execution_count": 18,
   "metadata": {},
   "outputs": [],
   "source": [
    "moving_average = lambda df, n: df.rolling(n).mean().fillna(0).map(np.floor).map(int)"
   ]
  },
  {
   "cell_type": "markdown",
   "metadata": {},
   "source": [
    "And the plot prototype is something like this:"
   ]
  },
  {
   "cell_type": "code",
   "execution_count": 22,
   "metadata": {},
   "outputs": [
    {
     "data": {
      "image/png": "[encoded data removed]",
      "text/plain": [
       "<Figure size 864x576 with 1 Axes>"
      ]
     },
     "metadata": {
      "needs_background": "light"
     },
     "output_type": "display_data"
    }
   ],
   "source": [
    "cl = [sns.color_palette(\"Blues_r\", 5)[3]] * len(de)\n",
    "cl0 = sns.color_palette(\"Blues_r\", 5)[3]\n",
    "\n",
    "de = dfs['Germany']\n",
    "\n",
    "fig, ax = plt.subplots(figsize=(12, 8))\n",
    "\n",
    "ax.bar(de['date'], de['new_cases'], fc=cl0)\n",
    "ax.plot(de['date'], moving_average(de['new_cases'], 5))\n",
    "ax.xaxis.set_major_locator(plt.MaxNLocator(7))\n"
   ]
  },
  {
   "cell_type": "markdown",
   "metadata": {},
   "source": [
    "I didn't put a check for `ipywidgets` package. You can find the installation instructions in the following [page](https://ipywidgets.readthedocs.io/en/latest/user_install.html:link)"
   ]
  },
  {
   "cell_type": "code",
   "execution_count": 324,
   "metadata": {},
   "outputs": [],
   "source": [
    "from ipywidgets import Layout, Output, HBox, VBox, Label, Button\n",
    "from ipywidgets import RadioButtons, IntRangeSlider, IntSlider, GridspecLayout, Checkbox, ColorPicker, Textarea, Dropdown, IntText, FloatText"
   ]
  },
  {
   "cell_type": "code",
   "execution_count": 374,
   "metadata": {},
   "outputs": [],
   "source": [
    "country_default = countries_large[0]\n",
    "day_default = 5\n",
    "color_default = 'red'\n",
    "thickness_default = 1.5"
   ]
  },
  {
   "cell_type": "code",
   "execution_count": 407,
   "metadata": {},
   "outputs": [],
   "source": [
    "%matplotlib widget\n",
    "\n",
    "output = Output()\n",
    "\n",
    "with output:\n",
    "    fig, ax = plt.subplots(constrained_layout=True, figsize=(6, 4))\n",
    "\n",
    "fig.canvas.toolbar_position = 'bottom'    "
   ]
  },
  {
   "cell_type": "markdown",
   "metadata": {},
   "source": [
    "The list of widgets and their callbacks are as follows"
   ]
  },
  {
   "cell_type": "code",
   "execution_count": 408,
   "metadata": {},
   "outputs": [],
   "source": [
    "# Widgets\n",
    "layout_checkbox = Layout(width='50px', height='50px')\n",
    "layout_list = Layout(width='90px', height='30px')\n",
    "\n",
    "mov_ave = Checkbox(description='moving average')\n",
    "log_scale = Checkbox(description='log scale')\n",
    "y_lim = Checkbox(description='y limit')\n",
    "\n",
    "mov_ave_slider = IntSlider(description='mov ave days', value=day_default, min=2, max=10)\n",
    "mov_ave_slider.disabled = True\n",
    "\n",
    "color_picker = ColorPicker(description='mov ave color')\n",
    "color_picker.value = color_default\n",
    "thickness = FloatText(description='mov ave thickness', step=0.1)\n",
    "thickness.value = 1.5\n",
    "\n",
    "country_list = Dropdown(description='Country', value=country_default, options=countries_large)\n",
    "\n",
    "# helpers\n",
    "def set_all_visible_except(name):\n",
    "    for _ in h_plt:\n",
    "        h_plt[_].set_visible(True)\n",
    "    h_plt[name].set_visible(False)\n",
    "\n",
    "\n",
    "def set_ylim_bottom():\n",
    "    if log_scale.value:\n",
    "        ax.set_ylim(bottom=1.0)\n",
    "    else:\n",
    "        ax.set_ylim(bottom=0.0)\n",
    "        \n",
    "        \n",
    "def set_ylim_top(name):\n",
    "    ax.set_ylim(top=dfs[name]['new_cases'].max() * 1.1)\n",
    "    \n",
    "\n",
    "# Callbacks\n",
    "def update_ylim(value):\n",
    "    if value:\n",
    "        set_ylim_top(country_list.value)\n",
    "        set_ylim_bottom()\n",
    "    else:\n",
    "        ax.set_ylim(top=80000)\n",
    "        set_ylim_bottom()\n",
    "        \n",
    "\n",
    "def update_country_list(value):\n",
    "    df = dfs[value]\n",
    "    for h, y in zip(h_bar, df['new_cases']):\n",
    "        h.set_height(y)\n",
    "    set_all_visible_except(value)\n",
    "    update_ylim(y_lim.value)\n",
    "    update_mov_ave(mov_ave.value)\n",
    "\n",
    "\n",
    "def update_mov_ave(value):\n",
    "    if value:\n",
    "        mov_ave_slider.disabled = False\n",
    "        #draw\n",
    "        update_mov_ave_slider(mov_ave_slider.value)\n",
    "        h_ave.set_visible(True)\n",
    "    else:\n",
    "        mov_ave_slider.disabled = True\n",
    "        h_ave.set_visible(False)\n",
    "\n",
    "def update_mov_ave_slider(value):\n",
    "    h_ave.set_ydata(moving_average(dfs[country_list.value]['new_cases'],\n",
    "                                       mov_ave_slider.value))\n",
    "\n",
    "\n",
    "def update_log_scale(value):\n",
    "    if value:\n",
    "        set_ylim_bottom()\n",
    "        ax.set_yscale('log')\n",
    "    else:\n",
    "        ax.set_yscale('linear')        \n",
    "        set_ylim_bottom()        \n",
    "\n",
    "\n",
    "def update_mov_ave_color(value):\n",
    "    h_ave.set_color(value)\n",
    "\n",
    "\n",
    "def update_mov_ave_thicknes(value):\n",
    "    h_ave.set_lw(value)"
   ]
  },
  {
   "cell_type": "markdown",
   "metadata": {},
   "source": [
    "The use of `lambda` in the followings is for extracting the `.new` from the values, so we can use callback functions indirectly when updates on other widget. For exmaple, an update on log scale has to take care of the lower limit of the plot, or an update on country list has to recalculate the limits of the plot. There is probably some idiomatic way to do it without lambda expression though but I couldn't find it in the documentation."
   ]
  },
  {
   "cell_type": "code",
   "execution_count": null,
   "metadata": {},
   "outputs": [],
   "source": [
    "country_list.observe(lambda x: update_country_list(x.new), 'value')\n",
    "mov_ave.observe(lambda x: update_mov_ave(x.new), 'value')\n",
    "mov_ave_slider.observe(lambda x: update_mov_ave_slider(x.new), 'value')\n",
    "y_lim.observe(lambda x: update_ylim(x.new), 'value')\n",
    "log_scale.observe(lambda x: update_log_scale(x.new), 'value')\n",
    "color_picker.observe(lambda x: update_mov_ave_color(x.new), 'value')\n",
    "thickness.observe(lambda x: update_mov_ave_thicknes(x.new), 'value')"
   ]
  },
  {
   "cell_type": "markdown",
   "metadata": {},
   "source": [
    "We just replicate the plots from the prototype and save the handles since we need them to modify the plots in the callbacks"
   ]
  },
  {
   "cell_type": "code",
   "execution_count": 409,
   "metadata": {},
   "outputs": [],
   "source": [
    "# Plots\n",
    "\n",
    "pltargs = {'lw': 0.2, 'color': 'b'}\n",
    "h_plt = {}\n",
    "for country in countries_large:\n",
    "    df = dfs[country]\n",
    "    h_plt[country], = ax.plot(df['date'], df['new_cases'], **pltargs)\n",
    "\n",
    "df = dfs[country_list.value]\n",
    "\n",
    "h_bar = ax.bar(df['date'], df['new_cases'], color=cl0)\n",
    "set_all_visible_except(country_list.value)\n",
    "\n",
    "h_ave, = ax.plot(df['date'], moving_average(df['new_cases'], 5), \n",
    "                color=color_default, lw=thickness_default)\n",
    "h_ave.set_visible(False)\n",
    "\n",
    "ax.xaxis.set_major_locator(plt.MaxNLocator(4))"
   ]
  },
  {
   "cell_type": "markdown",
   "metadata": {},
   "source": [
    "Putting it all together with `GridspecLayout`, which is similar to `matplotlib.gridspec.GridSpec`"
   ]
  },
  {
   "cell_type": "code",
   "execution_count": 410,
   "metadata": {
    "code_folding": [],
    "scrolled": false
   },
   "outputs": [
    {
     "data": {
      "application/vnd.jupyter.widget-view+json": {
       "model_id": "f54f6bcc93a44b0d99d2b1d399134a96",
       "version_major": 2,
       "version_minor": 0
      },
      "text/plain": [
       "GridspecLayout(children=(Dropdown(description='Country', layout=Layout(grid_area='widget001'), options=('US', …"
      ]
     },
     "metadata": {},
     "output_type": "display_data"
    }
   ],
   "source": [
    "grid = GridspecLayout(n_rows=12, n_columns=3, width='300x',\n",
    "                     justify_content='flex-start', align_items='flex-start')\n",
    "grid[0, 0] = country_list\n",
    "grid[0, 1] = mov_ave\n",
    "grid[0, 2] = log_scale\n",
    "grid[2, 0] = y_lim\n",
    "\n",
    "grid[1, 0] = mov_ave_slider\n",
    "\n",
    "grid[1, 1] = color_picker\n",
    "grid[1, 2] = thickness\n",
    "grid[3:, :] = output\n",
    "\n",
    "update_ylim(y_lim.value)\n",
    "#update_mov_ave(mov_ave.value)\n",
    "update_log_scale(log_scale.value)\n",
    "\n",
    "\n",
    "grid\n",
    "\n"
   ]
  },
  {
   "cell_type": "markdown",
   "metadata": {},
   "source": [
    "### TODOs:\n",
    "\n",
    "- A date range selector\n",
    "\n",
    "- Better arrangement of the widgets"
   ]
  }
 ],
 "metadata": {
  "@webio": {
   "lastCommId": null,
   "lastKernelId": null
  },
  "kernelspec": {
   "display_name": "Python 3",
   "language": "python",
   "name": "python3"
  },
  "language_info": {
   "codemirror_mode": {
    "name": "ipython",
    "version": 3
   },
   "file_extension": ".py",
   "mimetype": "text/x-python",
   "name": "python",
   "nbconvert_exporter": "python",
   "pygments_lexer": "ipython3",
   "version": "3.6.3"
  }
 },
 "nbformat": 4,
 "nbformat_minor": 2
}
