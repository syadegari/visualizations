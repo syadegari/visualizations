{
 "cells": [
  {
   "cell_type": "code",
   "execution_count": 52,
   "metadata": {},
   "outputs": [],
   "source": [
    "import numpy as np\n",
    "import matplotlib.pyplot as plt"
   ]
  },
  {
   "cell_type": "code",
   "execution_count": 53,
   "metadata": {},
   "outputs": [],
   "source": [
    "from ipywidgets import Layout, Output, HBox, VBox, Label, Button\n",
    "from ipywidgets import RadioButtons, IntSlider"
   ]
  },
  {
   "cell_type": "code",
   "execution_count": 57,
   "metadata": {},
   "outputs": [],
   "source": [
    "%matplotlib widget\n",
    "\n",
    "output = Output()\n",
    "with output:\n",
    "    fig, ax = plt.subplots(constrained_layout=True, figsize=(4, 3))\n",
    "\n",
    "x = np.arange(1, 10, .03)\n",
    "line, = ax.plot(x, np.sin(x))\n",
    "fig.canvas.toolbar_position = 'bottom'    "
   ]
  },
  {
   "cell_type": "code",
   "execution_count": 58,
   "metadata": {},
   "outputs": [],
   "source": [
    "slider = IntSlider(value=1, min=1, max=10, step=1, description='freq')\n",
    "\n",
    "radio = RadioButtons(\n",
    "    value='sin',\n",
    "    options=['sin', 'sinh', 'tanh'],\n",
    "    description='f(x):',\n",
    "    disabled=False)\n",
    "\n",
    "def get_fn(name):\n",
    "    if name == 'sin':\n",
    "        return np.sin\n",
    "    elif name == 'sinh':\n",
    "        return np.sinh\n",
    "    elif name == 'tanh':\n",
    "        return np.tanh\n",
    "\n",
    "def update_ylim(line):\n",
    "    m, M = line.get_ydata().min(), line.get_ydata().max()\n",
    "    alpha = 1.1      # 5% top and bottom of min and max\n",
    "    h = (m + M) / 2\n",
    "    l = alpha * (M - m) / 2\n",
    "    ax.set_ylim(bottom=h-l, top=h+l)   \n",
    "    \n",
    "def update_freq(val):\n",
    "    fn = get_fn(radio.value)\n",
    "    line.set_ydata(fn(val.new * x))\n",
    "    update_ylim(line)\n",
    "    fig.canvas.draw()\n",
    "        \n",
    "def update_fx(val):\n",
    "    fn = get_fn(val.new)\n",
    "    freq = slider.value\n",
    "    line.set_ydata(fn(freq * x))\n",
    "    update_ylim(line)\n",
    "    fig.canvas.draw()\n",
    "        \n",
    "slider.observe(update_freq, 'value')\n",
    "radio.observe(update_fx, 'value')"
   ]
  },
  {
   "cell_type": "markdown",
   "metadata": {},
   "source": [
    "**Note**\\: The `frequenc` widget, strictly speaking, is only meaningful for `sin` function, but we leave it like that for other two functions `sinh` and `tanh`, since this is about practicing trying out widgets than mathematical correctness."
   ]
  },
  {
   "cell_type": "code",
   "execution_count": 59,
   "metadata": {
    "scrolled": false
   },
   "outputs": [
    {
     "data": {
      "application/vnd.jupyter.widget-view+json": {
       "model_id": "d9ff85e2343b42b499d59f6ecc93a796",
       "version_major": 2,
       "version_minor": 0
      },
      "text/plain": [
       "HBox(children=(VBox(children=(RadioButtons(description='f(x):', options=('sin', 'sinh', 'tanh'), value='sin'),…"
      ]
     },
     "metadata": {},
     "output_type": "display_data"
    }
   ],
   "source": [
    "HBox([VBox([radio, slider]), output])"
   ]
  }
 ],
 "metadata": {
  "@webio": {
   "lastCommId": null,
   "lastKernelId": null
  },
  "kernelspec": {
   "display_name": "Python 3",
   "language": "python",
   "name": "python3"
  },
  "language_info": {
   "codemirror_mode": {
    "name": "ipython",
    "version": 3
   },
   "file_extension": ".py",
   "mimetype": "text/x-python",
   "name": "python",
   "nbconvert_exporter": "python",
   "pygments_lexer": "ipython3",
   "version": "3.6.3"
  }
 },
 "nbformat": 4,
 "nbformat_minor": 2
}
